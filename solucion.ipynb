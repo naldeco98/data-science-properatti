{
 "cells": [
  {
   "cell_type": "code",
   "execution_count": 2,
   "metadata": {},
   "outputs": [],
   "source": [
    "# Preparo entorno de ejecucion\n",
    "import pandas as pd\n",
    "import numpy as np\n",
    "import re"
   ]
  },
  {
   "cell_type": "code",
   "execution_count": 3,
   "metadata": {},
   "outputs": [
    {
     "name": "stdout",
     "output_type": "stream",
     "text": [
      "Tamanio del data frame:  26  columnas y  121220  filas\n"
     ]
    }
   ],
   "source": [
    "# Cargo data en data frame\n",
    "df = pd.read_csv('properatti.csv')\n",
    "print(\"Tamanio del data frame: \", df.shape[1], \" columnas y \", df.shape[0], \" filas\")"
   ]
  },
  {
   "cell_type": "markdown",
   "metadata": {},
   "source": [
    "# Objetivo Principal\n",
    "## Determinar el precio por metro cuadrado de un imueble\n",
    "Primero vamos a eliminar columnas irrelevantes para este estudio\n",
    "Entre estas tenemos: \n",
    "> 'properati_url' : Url en la base de properati\n",
    "> 'image_thumbnail' : Url de la imagen de la primer foto\n",
    "> 'geonames_id' : id de geonames\n",
    " "
   ]
  },
  {
   "cell_type": "code",
   "execution_count": 4,
   "metadata": {},
   "outputs": [
    {
     "data": {
      "text/plain": [
       "Index(['operation', 'property_type', 'place_name', 'place_with_parent_names',\n",
       "       'country_name', 'state_name', 'lat-lon', 'lat', 'lon', 'price',\n",
       "       'currency', 'price_aprox_local_currency', 'price_aprox_usd',\n",
       "       'surface_total_in_m2', 'surface_covered_in_m2', 'price_usd_per_m2',\n",
       "       'price_per_m2', 'floor', 'rooms', 'expenses', 'description', 'title'],\n",
       "      dtype='object')"
      ]
     },
     "execution_count": 4,
     "metadata": {},
     "output_type": "execute_result"
    }
   ],
   "source": [
    "df.pop('Unnamed: 0')\n",
    "df.pop('properati_url')\n",
    "df.pop('image_thumbnail')\n",
    "df.pop('geonames_id')\n",
    "df.columns"
   ]
  },
  {
   "cell_type": "markdown",
   "metadata": {},
   "source": [
    "Vamos a ver que columnas se encuentran con valores nulos para luego poder completar los mismos con diferentes tecnicas de imputacion"
   ]
  },
  {
   "cell_type": "code",
   "execution_count": 5,
   "metadata": {},
   "outputs": [
    {
     "data": {
      "text/plain": [
       "{'place_name': 23,\n",
       " 'lat-lon': 51550,\n",
       " 'lat': 51550,\n",
       " 'lon': 51550,\n",
       " 'price': 20410,\n",
       " 'currency': 20411,\n",
       " 'price_aprox_local_currency': 20410,\n",
       " 'price_aprox_usd': 20410,\n",
       " 'surface_total_in_m2': 39328,\n",
       " 'surface_covered_in_m2': 19907,\n",
       " 'price_usd_per_m2': 52603,\n",
       " 'price_per_m2': 33562,\n",
       " 'floor': 113321,\n",
       " 'rooms': 73830,\n",
       " 'expenses': 106958,\n",
       " 'description': 2}"
      ]
     },
     "execution_count": 5,
     "metadata": {},
     "output_type": "execute_result"
    }
   ],
   "source": [
    "# Extraigo las columnas que tiene valores nulos\n",
    "haveEmptys = {}\n",
    "for f in df.columns:\n",
    "    emptys = df[f].isnull().sum()\n",
    "    if emptys > 0:\n",
    "        haveEmptys[f] = emptys\n",
    "haveEmptys"
   ]
  },
  {
   "cell_type": "markdown",
   "metadata": {},
   "source": [
    "Vamosa imprimir una muestra de cada uno de los campos que contiene campos vacios"
   ]
  },
  {
   "cell_type": "code",
   "execution_count": 6,
   "metadata": {},
   "outputs": [
    {
     "data": {
      "text/plain": [
       "'place_name : Tigre'"
      ]
     },
     "metadata": {},
     "output_type": "display_data"
    },
    {
     "data": {
      "text/plain": [
       "'lat-lon : nan'"
      ]
     },
     "metadata": {},
     "output_type": "display_data"
    },
    {
     "data": {
      "text/plain": [
       "'lat : -34.5895459'"
      ]
     },
     "metadata": {},
     "output_type": "display_data"
    },
    {
     "data": {
      "text/plain": [
       "'lon : nan'"
      ]
     },
     "metadata": {},
     "output_type": "display_data"
    },
    {
     "data": {
      "text/plain": [
       "'price : 350000.0'"
      ]
     },
     "metadata": {},
     "output_type": "display_data"
    },
    {
     "data": {
      "text/plain": [
       "'currency : ARS'"
      ]
     },
     "metadata": {},
     "output_type": "display_data"
    },
    {
     "data": {
      "text/plain": [
       "'price_aprox_local_currency : 1173359.25'"
      ]
     },
     "metadata": {},
     "output_type": "display_data"
    },
    {
     "data": {
      "text/plain": [
       "'price_aprox_usd : 116043.0'"
      ]
     },
     "metadata": {},
     "output_type": "display_data"
    },
    {
     "data": {
      "text/plain": [
       "'surface_total_in_m2 : nan'"
      ]
     },
     "metadata": {},
     "output_type": "display_data"
    },
    {
     "data": {
      "text/plain": [
       "'surface_covered_in_m2 : nan'"
      ]
     },
     "metadata": {},
     "output_type": "display_data"
    },
    {
     "data": {
      "text/plain": [
       "'price_usd_per_m2 : 1321.4285714285713'"
      ]
     },
     "metadata": {},
     "output_type": "display_data"
    },
    {
     "data": {
      "text/plain": [
       "'price_per_m2 : nan'"
      ]
     },
     "metadata": {},
     "output_type": "display_data"
    },
    {
     "data": {
      "text/plain": [
       "'floor : nan'"
      ]
     },
     "metadata": {},
     "output_type": "display_data"
    },
    {
     "data": {
      "text/plain": [
       "'rooms : 2.0'"
      ]
     },
     "metadata": {},
     "output_type": "display_data"
    },
    {
     "data": {
      "text/plain": [
       "'expenses : nan'"
      ]
     },
     "metadata": {},
     "output_type": "display_data"
    },
    {
     "data": {
      "text/plain": [
       "'description :   - Publicado por '"
      ]
     },
     "metadata": {},
     "output_type": "display_data"
    }
   ],
   "source": [
    "for field in haveEmptys.keys():\n",
    "    display(f'{field} : {df[field][np.random.randint(0, df.shape[0])]}')\n"
   ]
  },
  {
   "cell_type": "code",
   "execution_count": 7,
   "metadata": {},
   "outputs": [
    {
     "data": {
      "text/html": [
       "<div>\n",
       "<style scoped>\n",
       "    .dataframe tbody tr th:only-of-type {\n",
       "        vertical-align: middle;\n",
       "    }\n",
       "\n",
       "    .dataframe tbody tr th {\n",
       "        vertical-align: top;\n",
       "    }\n",
       "\n",
       "    .dataframe thead th {\n",
       "        text-align: right;\n",
       "    }\n",
       "</style>\n",
       "<table border=\"1\" class=\"dataframe\">\n",
       "  <thead>\n",
       "    <tr style=\"text-align: right;\">\n",
       "      <th></th>\n",
       "      <th>operation</th>\n",
       "      <th>property_type</th>\n",
       "      <th>place_name</th>\n",
       "      <th>place_with_parent_names</th>\n",
       "      <th>country_name</th>\n",
       "      <th>state_name</th>\n",
       "      <th>lat-lon</th>\n",
       "      <th>lat</th>\n",
       "      <th>lon</th>\n",
       "      <th>price</th>\n",
       "      <th>...</th>\n",
       "      <th>price_aprox_usd</th>\n",
       "      <th>surface_total_in_m2</th>\n",
       "      <th>surface_covered_in_m2</th>\n",
       "      <th>price_usd_per_m2</th>\n",
       "      <th>price_per_m2</th>\n",
       "      <th>floor</th>\n",
       "      <th>rooms</th>\n",
       "      <th>expenses</th>\n",
       "      <th>description</th>\n",
       "      <th>title</th>\n",
       "    </tr>\n",
       "  </thead>\n",
       "  <tbody>\n",
       "    <tr>\n",
       "      <th>76762</th>\n",
       "      <td>sell</td>\n",
       "      <td>house</td>\n",
       "      <td>Longchamps</td>\n",
       "      <td>|Argentina|Bs.As. G.B.A. Zona Sur|Almirante Br...</td>\n",
       "      <td>Argentina</td>\n",
       "      <td>Bs.As. G.B.A. Zona Sur</td>\n",
       "      <td>-34.8489566,-58.3928873</td>\n",
       "      <td>-34.848957</td>\n",
       "      <td>-58.392887</td>\n",
       "      <td>160000.0</td>\n",
       "      <td>...</td>\n",
       "      <td>160000.00</td>\n",
       "      <td>NaN</td>\n",
       "      <td>NaN</td>\n",
       "      <td>NaN</td>\n",
       "      <td>NaN</td>\n",
       "      <td>NaN</td>\n",
       "      <td>NaN</td>\n",
       "      <td>NaN</td>\n",
       "      <td>UBICADO EN LA CALLE CALLE BUNGE Nº3.442 ENTRE ...</td>\n",
       "      <td>VENDE:CASA</td>\n",
       "    </tr>\n",
       "    <tr>\n",
       "      <th>45531</th>\n",
       "      <td>sell</td>\n",
       "      <td>apartment</td>\n",
       "      <td>Caballito</td>\n",
       "      <td>|Argentina|Capital Federal|Caballito|</td>\n",
       "      <td>Argentina</td>\n",
       "      <td>Capital Federal</td>\n",
       "      <td>-34.6211525,-58.4424341</td>\n",
       "      <td>-34.621153</td>\n",
       "      <td>-58.442434</td>\n",
       "      <td>230000.0</td>\n",
       "      <td>...</td>\n",
       "      <td>230000.00</td>\n",
       "      <td>105.0</td>\n",
       "      <td>101.0</td>\n",
       "      <td>2190.476190</td>\n",
       "      <td>2277.227723</td>\n",
       "      <td>3.0</td>\n",
       "      <td>4.0</td>\n",
       "      <td>3500.0</td>\n",
       "      <td>Venta de Departamento 5 AMBIENTES en Caballito...</td>\n",
       "      <td>DEPARTAMENTO EN VENTA</td>\n",
       "    </tr>\n",
       "    <tr>\n",
       "      <th>12675</th>\n",
       "      <td>sell</td>\n",
       "      <td>apartment</td>\n",
       "      <td>Villa Ballester</td>\n",
       "      <td>|Argentina|Bs.As. G.B.A. Zona Norte|General Sa...</td>\n",
       "      <td>Argentina</td>\n",
       "      <td>Bs.As. G.B.A. Zona Norte</td>\n",
       "      <td>NaN</td>\n",
       "      <td>NaN</td>\n",
       "      <td>NaN</td>\n",
       "      <td>115000.0</td>\n",
       "      <td>...</td>\n",
       "      <td>115000.00</td>\n",
       "      <td>57.0</td>\n",
       "      <td>55.0</td>\n",
       "      <td>2017.543860</td>\n",
       "      <td>2090.909091</td>\n",
       "      <td>NaN</td>\n",
       "      <td>2.0</td>\n",
       "      <td>NaN</td>\n",
       "      <td>DEPARTAMENTO DE DOS AMBIENTES- CON COCHERA CUB...</td>\n",
       "      <td>DEPARTAMENTO DOS AMBIENTES-CON COCHERA CUBIERT...</td>\n",
       "    </tr>\n",
       "    <tr>\n",
       "      <th>1800</th>\n",
       "      <td>sell</td>\n",
       "      <td>apartment</td>\n",
       "      <td>Merlo</td>\n",
       "      <td>|Argentina|Bs.As. G.B.A. Zona Oeste|Merlo|</td>\n",
       "      <td>Argentina</td>\n",
       "      <td>Bs.As. G.B.A. Zona Oeste</td>\n",
       "      <td>-34.66457367,-58.70168304</td>\n",
       "      <td>-34.664574</td>\n",
       "      <td>-58.701683</td>\n",
       "      <td>NaN</td>\n",
       "      <td>...</td>\n",
       "      <td>NaN</td>\n",
       "      <td>65.0</td>\n",
       "      <td>65.0</td>\n",
       "      <td>NaN</td>\n",
       "      <td>NaN</td>\n",
       "      <td>NaN</td>\n",
       "      <td>2.0</td>\n",
       "      <td>NaN</td>\n",
       "      <td>MR-339EXCELENTE DEPARTAMENTO EN TORRES DEL GOL...</td>\n",
       "      <td>U$D 100.000 - Departamento en Venta - Independ...</td>\n",
       "    </tr>\n",
       "    <tr>\n",
       "      <th>102612</th>\n",
       "      <td>sell</td>\n",
       "      <td>apartment</td>\n",
       "      <td>Ituzaingó</td>\n",
       "      <td>|Argentina|Corrientes|Ituzaingó|</td>\n",
       "      <td>Argentina</td>\n",
       "      <td>Corrientes</td>\n",
       "      <td>NaN</td>\n",
       "      <td>NaN</td>\n",
       "      <td>NaN</td>\n",
       "      <td>195000.0</td>\n",
       "      <td>...</td>\n",
       "      <td>195000.00</td>\n",
       "      <td>79.0</td>\n",
       "      <td>73.0</td>\n",
       "      <td>2468.354430</td>\n",
       "      <td>2671.232877</td>\n",
       "      <td>NaN</td>\n",
       "      <td>NaN</td>\n",
       "      <td>NaN</td>\n",
       "      <td>DESARROLLO INMOBILIARIO EN PRE-POZ...</td>\n",
       "      <td>Departamento - Ituzaingó</td>\n",
       "    </tr>\n",
       "    <tr>\n",
       "      <th>102019</th>\n",
       "      <td>sell</td>\n",
       "      <td>apartment</td>\n",
       "      <td>Martínez</td>\n",
       "      <td>|Argentina|Bs.As. G.B.A. Zona Norte|San Isidro...</td>\n",
       "      <td>Argentina</td>\n",
       "      <td>Bs.As. G.B.A. Zona Norte</td>\n",
       "      <td>NaN</td>\n",
       "      <td>NaN</td>\n",
       "      <td>NaN</td>\n",
       "      <td>6074740.0</td>\n",
       "      <td>...</td>\n",
       "      <td>340693.75</td>\n",
       "      <td>111.0</td>\n",
       "      <td>71.0</td>\n",
       "      <td>3069.313063</td>\n",
       "      <td>85559.718310</td>\n",
       "      <td>NaN</td>\n",
       "      <td>NaN</td>\n",
       "      <td>NaN</td>\n",
       "      <td>El Proyecto cuenta con Unidades de 2, 3 y 4 a...</td>\n",
       "      <td>Departamento en Pasionaria Martinez entrega 2018!</td>\n",
       "    </tr>\n",
       "    <tr>\n",
       "      <th>8633</th>\n",
       "      <td>sell</td>\n",
       "      <td>house</td>\n",
       "      <td>Salta</td>\n",
       "      <td>|Argentina|Salta|Salta|</td>\n",
       "      <td>Argentina</td>\n",
       "      <td>Salta</td>\n",
       "      <td>-24.7845211,-65.4002475</td>\n",
       "      <td>-24.784521</td>\n",
       "      <td>-65.400247</td>\n",
       "      <td>NaN</td>\n",
       "      <td>...</td>\n",
       "      <td>NaN</td>\n",
       "      <td>300.0</td>\n",
       "      <td>174.0</td>\n",
       "      <td>NaN</td>\n",
       "      <td>NaN</td>\n",
       "      <td>NaN</td>\n",
       "      <td>6.0</td>\n",
       "      <td>NaN</td>\n",
       "      <td>Hermosa casa de 3 plantas ubicada en una zona ...</td>\n",
       "      <td>Casa venta</td>\n",
       "    </tr>\n",
       "    <tr>\n",
       "      <th>982</th>\n",
       "      <td>sell</td>\n",
       "      <td>apartment</td>\n",
       "      <td>Flores</td>\n",
       "      <td>|Argentina|Capital Federal|Flores|</td>\n",
       "      <td>Argentina</td>\n",
       "      <td>Capital Federal</td>\n",
       "      <td>-34.617942,-58.460455</td>\n",
       "      <td>-34.617942</td>\n",
       "      <td>-58.460455</td>\n",
       "      <td>88000.0</td>\n",
       "      <td>...</td>\n",
       "      <td>88000.00</td>\n",
       "      <td>NaN</td>\n",
       "      <td>46.0</td>\n",
       "      <td>NaN</td>\n",
       "      <td>1913.043478</td>\n",
       "      <td>NaN</td>\n",
       "      <td>1.0</td>\n",
       "      <td>NaN</td>\n",
       "      <td>Corredor Responsable: Marcelo Trujillo - CUCIC...</td>\n",
       "      <td>En venta  mono divisible a Estr/ FLORES con renta</td>\n",
       "    </tr>\n",
       "    <tr>\n",
       "      <th>103513</th>\n",
       "      <td>sell</td>\n",
       "      <td>apartment</td>\n",
       "      <td>Rosario</td>\n",
       "      <td>|Argentina|Santa Fe|Rosario|</td>\n",
       "      <td>Argentina</td>\n",
       "      <td>Santa Fe</td>\n",
       "      <td>NaN</td>\n",
       "      <td>NaN</td>\n",
       "      <td>NaN</td>\n",
       "      <td>1560000.0</td>\n",
       "      <td>...</td>\n",
       "      <td>87490.53</td>\n",
       "      <td>56.0</td>\n",
       "      <td>50.0</td>\n",
       "      <td>1562.330893</td>\n",
       "      <td>31200.000000</td>\n",
       "      <td>NaN</td>\n",
       "      <td>NaN</td>\n",
       "      <td>NaN</td>\n",
       "      <td>GARCIA ANDREU - Negocios Inmobiliarios-  Ofrec...</td>\n",
       "      <td>Departamento Callao al 1000  - Macrocentro</td>\n",
       "    </tr>\n",
       "    <tr>\n",
       "      <th>17966</th>\n",
       "      <td>sell</td>\n",
       "      <td>apartment</td>\n",
       "      <td>Belgrano</td>\n",
       "      <td>|Argentina|Capital Federal|Belgrano|</td>\n",
       "      <td>Argentina</td>\n",
       "      <td>Capital Federal</td>\n",
       "      <td>-34.5607609,-58.4606042</td>\n",
       "      <td>-34.560761</td>\n",
       "      <td>-58.460604</td>\n",
       "      <td>330000.0</td>\n",
       "      <td>...</td>\n",
       "      <td>330000.00</td>\n",
       "      <td>85.0</td>\n",
       "      <td>75.0</td>\n",
       "      <td>3882.352941</td>\n",
       "      <td>4400.000000</td>\n",
       "      <td>NaN</td>\n",
       "      <td>NaN</td>\n",
       "      <td>7500.0</td>\n",
       "      <td>ES UN MODERNO DEPARTAMENTO CON DISENO UNICO Y ...</td>\n",
       "      <td>DEPARTAMENTO EN VENTA</td>\n",
       "    </tr>\n",
       "  </tbody>\n",
       "</table>\n",
       "<p>10 rows × 22 columns</p>\n",
       "</div>"
      ],
      "text/plain": [
       "       operation property_type       place_name  \\\n",
       "76762       sell         house       Longchamps   \n",
       "45531       sell     apartment        Caballito   \n",
       "12675       sell     apartment  Villa Ballester   \n",
       "1800        sell     apartment            Merlo   \n",
       "102612      sell     apartment        Ituzaingó   \n",
       "102019      sell     apartment         Martínez   \n",
       "8633        sell         house            Salta   \n",
       "982         sell     apartment           Flores   \n",
       "103513      sell     apartment          Rosario   \n",
       "17966       sell     apartment         Belgrano   \n",
       "\n",
       "                                  place_with_parent_names country_name  \\\n",
       "76762   |Argentina|Bs.As. G.B.A. Zona Sur|Almirante Br...    Argentina   \n",
       "45531               |Argentina|Capital Federal|Caballito|    Argentina   \n",
       "12675   |Argentina|Bs.As. G.B.A. Zona Norte|General Sa...    Argentina   \n",
       "1800           |Argentina|Bs.As. G.B.A. Zona Oeste|Merlo|    Argentina   \n",
       "102612                   |Argentina|Corrientes|Ituzaingó|    Argentina   \n",
       "102019  |Argentina|Bs.As. G.B.A. Zona Norte|San Isidro...    Argentina   \n",
       "8633                              |Argentina|Salta|Salta|    Argentina   \n",
       "982                    |Argentina|Capital Federal|Flores|    Argentina   \n",
       "103513                       |Argentina|Santa Fe|Rosario|    Argentina   \n",
       "17966                |Argentina|Capital Federal|Belgrano|    Argentina   \n",
       "\n",
       "                      state_name                    lat-lon        lat  \\\n",
       "76762     Bs.As. G.B.A. Zona Sur    -34.8489566,-58.3928873 -34.848957   \n",
       "45531            Capital Federal    -34.6211525,-58.4424341 -34.621153   \n",
       "12675   Bs.As. G.B.A. Zona Norte                        NaN        NaN   \n",
       "1800    Bs.As. G.B.A. Zona Oeste  -34.66457367,-58.70168304 -34.664574   \n",
       "102612                Corrientes                        NaN        NaN   \n",
       "102019  Bs.As. G.B.A. Zona Norte                        NaN        NaN   \n",
       "8633                       Salta    -24.7845211,-65.4002475 -24.784521   \n",
       "982              Capital Federal      -34.617942,-58.460455 -34.617942   \n",
       "103513                  Santa Fe                        NaN        NaN   \n",
       "17966            Capital Federal    -34.5607609,-58.4606042 -34.560761   \n",
       "\n",
       "              lon      price  ... price_aprox_usd  surface_total_in_m2  \\\n",
       "76762  -58.392887   160000.0  ...       160000.00                  NaN   \n",
       "45531  -58.442434   230000.0  ...       230000.00                105.0   \n",
       "12675         NaN   115000.0  ...       115000.00                 57.0   \n",
       "1800   -58.701683        NaN  ...             NaN                 65.0   \n",
       "102612        NaN   195000.0  ...       195000.00                 79.0   \n",
       "102019        NaN  6074740.0  ...       340693.75                111.0   \n",
       "8633   -65.400247        NaN  ...             NaN                300.0   \n",
       "982    -58.460455    88000.0  ...        88000.00                  NaN   \n",
       "103513        NaN  1560000.0  ...        87490.53                 56.0   \n",
       "17966  -58.460604   330000.0  ...       330000.00                 85.0   \n",
       "\n",
       "        surface_covered_in_m2  price_usd_per_m2  price_per_m2  floor  rooms  \\\n",
       "76762                     NaN               NaN           NaN    NaN    NaN   \n",
       "45531                   101.0       2190.476190   2277.227723    3.0    4.0   \n",
       "12675                    55.0       2017.543860   2090.909091    NaN    2.0   \n",
       "1800                     65.0               NaN           NaN    NaN    2.0   \n",
       "102612                   73.0       2468.354430   2671.232877    NaN    NaN   \n",
       "102019                   71.0       3069.313063  85559.718310    NaN    NaN   \n",
       "8633                    174.0               NaN           NaN    NaN    6.0   \n",
       "982                      46.0               NaN   1913.043478    NaN    1.0   \n",
       "103513                   50.0       1562.330893  31200.000000    NaN    NaN   \n",
       "17966                    75.0       3882.352941   4400.000000    NaN    NaN   \n",
       "\n",
       "        expenses                                        description  \\\n",
       "76762        NaN  UBICADO EN LA CALLE CALLE BUNGE Nº3.442 ENTRE ...   \n",
       "45531     3500.0  Venta de Departamento 5 AMBIENTES en Caballito...   \n",
       "12675        NaN  DEPARTAMENTO DE DOS AMBIENTES- CON COCHERA CUB...   \n",
       "1800         NaN  MR-339EXCELENTE DEPARTAMENTO EN TORRES DEL GOL...   \n",
       "102612       NaN              DESARROLLO INMOBILIARIO EN PRE-POZ...   \n",
       "102019       NaN   El Proyecto cuenta con Unidades de 2, 3 y 4 a...   \n",
       "8633         NaN  Hermosa casa de 3 plantas ubicada en una zona ...   \n",
       "982          NaN  Corredor Responsable: Marcelo Trujillo - CUCIC...   \n",
       "103513       NaN  GARCIA ANDREU - Negocios Inmobiliarios-  Ofrec...   \n",
       "17966     7500.0  ES UN MODERNO DEPARTAMENTO CON DISENO UNICO Y ...   \n",
       "\n",
       "                                                    title  \n",
       "76762                                          VENDE:CASA  \n",
       "45531                               DEPARTAMENTO EN VENTA  \n",
       "12675   DEPARTAMENTO DOS AMBIENTES-CON COCHERA CUBIERT...  \n",
       "1800    U$D 100.000 - Departamento en Venta - Independ...  \n",
       "102612                           Departamento - Ituzaingó  \n",
       "102019  Departamento en Pasionaria Martinez entrega 2018!  \n",
       "8633                                           Casa venta  \n",
       "982     En venta  mono divisible a Estr/ FLORES con renta  \n",
       "103513         Departamento Callao al 1000  - Macrocentro  \n",
       "17966                               DEPARTAMENTO EN VENTA  \n",
       "\n",
       "[10 rows x 22 columns]"
      ]
     },
     "execution_count": 7,
     "metadata": {},
     "output_type": "execute_result"
    }
   ],
   "source": [
    "df.sample(10)"
   ]
  },
  {
   "cell_type": "markdown",
   "metadata": {},
   "source": [
    "### Imputacion de precio por valor en descripcion\n",
    "Utilizando expresiones regulares vamos a intentar completar los valores de la columna precios obteniendo valos de la descripcion.\n"
   ]
  },
  {
   "cell_type": "code",
   "execution_count": 8,
   "metadata": {},
   "outputs": [
    {
     "data": {
      "text/plain": [
       "(20410, 22)"
      ]
     },
     "execution_count": 8,
     "metadata": {},
     "output_type": "execute_result"
    }
   ],
   "source": [
    "# Filas que contienen valores nulos en la columna \"price\"\n",
    "priceIsNull = df[df['price'].isnull()]\n",
    "priceIsNull.shape"
   ]
  },
  {
   "cell_type": "code",
   "execution_count": 9,
   "metadata": {},
   "outputs": [
    {
     "data": {
      "text/plain": [
       "'CHALET EN DOS PLANTASCOMODIDADES:PB: living comedor - cocina comedor diario - baño completo - galería - garage pasante - fondo - pileta de natación - cuarto guarda útiles - lavaderoPA: 3 dormitorios (2 con altillo) - baño completo Medidas:Frente: 10 m Largo: 26 m. EasyBroker ID: 89447'"
      ]
     },
     "execution_count": 9,
     "metadata": {},
     "output_type": "execute_result"
    }
   ],
   "source": [
    "priceIsNull.iloc[np.random.randint(0, priceIsNull.shape[1])]['description']"
   ]
  },
  {
   "cell_type": "code",
   "execution_count": 10,
   "metadata": {},
   "outputs": [],
   "source": [
    "# Expresion regular para extraer el precio de la descripcion\n",
    "\n",
    "for i in range(priceIsNull.shape[0]):\n",
    "    priceIsNull.iloc[i]['description']\n"
   ]
  },
  {
   "cell_type": "code",
   "execution_count": 21,
   "metadata": {},
   "outputs": [
    {
     "data": {
      "text/plain": [
       "<AxesSubplot:>"
      ]
     },
     "execution_count": 21,
     "metadata": {},
     "output_type": "execute_result"
    },
    {
     "data": {
      "image/png": "[encoded data removed]",
      "text/plain": [
       "<Figure size 432x288 with 1 Axes>"
      ]
     },
     "metadata": {
      "needs_background": "light"
     },
     "output_type": "display_data"
    }
   ],
   "source": [
    "df.plot()"
   ]
  }
 ],
 "metadata": {
  "interpreter": {
   "hash": "4372b1848ab4d20666fdd5ebf000d0b9b72f9d72c88eb9025a2c14caf722bc62"
  },
  "kernelspec": {
   "display_name": "Python 3.8.13 ('dhdsblend2021')",
   "language": "python",
   "name": "python3"
  },
  "language_info": {
   "codemirror_mode": {
    "name": "ipython",
    "version": 3
   },
   "file_extension": ".py",
   "mimetype": "text/x-python",
   "name": "python",
   "nbconvert_exporter": "python",
   "pygments_lexer": "ipython3",
   "version": "3.8.13"
  },
  "orig_nbformat": 4
 },
 "nbformat": 4,
 "nbformat_minor": 2
}
