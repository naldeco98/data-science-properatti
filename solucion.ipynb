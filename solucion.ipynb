{
 "cells": [
  {
   "cell_type": "code",
   "execution_count": 341,
   "metadata": {},
   "outputs": [],
   "source": [
    "# Preparo entorno de ejecucion\n",
    "import pandas as pd\n",
    "import numpy as np\n",
    "import re\n",
    "# Configuro display de pandas\n",
    "pd.set_option('display.max_columns', 500)\n",
    "pd.set_option('display.max_colwidth', 300)\n",
    "\n",
    "# Funciones auxiliares\n",
    "NUMS = {\"un\":1, \"dos\":2, \"tres\":3,\"cuatro\":4,\"cinco\":5, \"seis\":6, \"siete\":7, \"ocho\":8, \"nueve\":9}\n",
    "\n",
    "# showPerOfNull Imprime el porcentaje de de campos nulos de un data set\n",
    "def showPerOfNull(df, show=True):\n",
    "    nils = (df.isnull().sum()/df.shape[0]) * 100\n",
    "    if show:\n",
    "        print(nils)\n",
    "    else:\n",
    "        return nils\n",
    "\n",
    "# fillAmountVar Recorre las filas de un data frame y rellena los campos nulos con el valor extraido de la columna descripcion a partir de una expresion regular\n",
    "# \n",
    "# data_row: fila del data frame\n",
    "# reg_exp: expresion regular\n",
    "# col: columna del data frame\n",
    "def fillAmountVar(data_row, reg_exp, col_input, col_output, reg_exp_group):\n",
    "    matched = reg_exp.search(data_row[col_input])\n",
    "    if matched is None:\n",
    "        return data_row[col_output]\n",
    "    lookFor = matched.group(reg_exp_group)\n",
    "    if lookFor.isalpha():\n",
    "        return NUMS[lookFor.lower()]\n",
    "    if lookFor is not None:\n",
    "        return lookFor\n",
    "    return data_row[col_output]"
   ]
  },
  {
   "cell_type": "markdown",
   "metadata": {},
   "source": [
    "# Objetivo Principal\n",
    "### Armar un modelo de regresion para determinar el precio por metro cuadrado de un inmueble\n"
   ]
  },
  {
   "cell_type": "markdown",
   "metadata": {},
   "source": [
    "### Preparacion de los datos\n",
    "Antes de armar un modelo de regresion debemos preparar el data set vamos realizar un analsis exploratorio.\n",
    "\n",
    "Vamos a eliminar columnas que no aportan informacion significativa\n",
    "Entre estas tenemos: \n",
    "- 'properati_url' : Url en la base de properati\n",
    "- 'image_thumbnail' : Url de la imagen de la primer foto\n",
    "- 'geonames_id' : id de geonames"
   ]
  },
  {
   "cell_type": "code",
   "execution_count": 342,
   "metadata": {},
   "outputs": [
    {
     "name": "stdout",
     "output_type": "stream",
     "text": [
      "Tamanio del data frame:  25  columnas y  121220  filas \n",
      "\n",
      "Columnas restantes:  22\n",
      "-> operation\n",
      "-> property_type\n",
      "-> place_name\n",
      "-> place_with_parent_names\n",
      "-> country_name\n",
      "-> state_name\n",
      "-> lat-lon\n",
      "-> lat\n",
      "-> lon\n",
      "-> price\n",
      "-> currency\n",
      "-> price_aprox_local_currency\n",
      "-> price_aprox_usd\n",
      "-> surface_total_in_m2\n",
      "-> surface_covered_in_m2\n",
      "-> price_usd_per_m2\n",
      "-> price_per_m2\n",
      "-> floor\n",
      "-> rooms\n",
      "-> expenses\n",
      "-> description\n",
      "-> title\n"
     ]
    }
   ],
   "source": [
    "\n",
    "# Cargo data en data frame\n",
    "df = pd.read_csv('properatti.csv', index_col=0)\n",
    "print(\"Tamanio del data frame: \", df.shape[1], \" columnas y \", df.shape[0], \" filas \\n\")\n",
    "\n",
    "# Eliminamos columnas que no nos interesan\n",
    "try:\n",
    "    df.drop(labels=['properati_url', 'image_thumbnail', 'geonames_id'], axis=1, inplace=True)\n",
    "except:\n",
    "    print(\"Ya no hay columnas properati_url, image_thumbnail, geonames_id\")\n",
    "print(\"Columnas restantes: \", df.shape[1])\n",
    "for col in df.columns:\n",
    "    print(\"->\", col)"
   ]
  },
  {
   "cell_type": "markdown",
   "metadata": {},
   "source": [
    "Vamos a tomar una muestra de 10 filas para comprender el problema"
   ]
  },
  {
   "cell_type": "code",
   "execution_count": 343,
   "metadata": {},
   "outputs": [
    {
     "data": {
      "text/html": [
       "<div>\n",
       "<style scoped>\n",
       "    .dataframe tbody tr th:only-of-type {\n",
       "        vertical-align: middle;\n",
       "    }\n",
       "\n",
       "    .dataframe tbody tr th {\n",
       "        vertical-align: top;\n",
       "    }\n",
       "\n",
       "    .dataframe thead th {\n",
       "        text-align: right;\n",
       "    }\n",
       "</style>\n",
       "<table border=\"1\" class=\"dataframe\">\n",
       "  <thead>\n",
       "    <tr style=\"text-align: right;\">\n",
       "      <th></th>\n",
       "      <th>operation</th>\n",
       "      <th>property_type</th>\n",
       "      <th>place_name</th>\n",
       "      <th>place_with_parent_names</th>\n",
       "      <th>country_name</th>\n",
       "      <th>state_name</th>\n",
       "      <th>lat-lon</th>\n",
       "      <th>lat</th>\n",
       "      <th>lon</th>\n",
       "      <th>price</th>\n",
       "      <th>currency</th>\n",
       "      <th>price_aprox_local_currency</th>\n",
       "      <th>price_aprox_usd</th>\n",
       "      <th>surface_total_in_m2</th>\n",
       "      <th>surface_covered_in_m2</th>\n",
       "      <th>price_usd_per_m2</th>\n",
       "      <th>price_per_m2</th>\n",
       "      <th>floor</th>\n",
       "      <th>rooms</th>\n",
       "      <th>expenses</th>\n",
       "      <th>description</th>\n",
       "      <th>title</th>\n",
       "    </tr>\n",
       "  </thead>\n",
       "  <tbody>\n",
       "    <tr>\n",
       "      <th>54098</th>\n",
       "      <td>sell</td>\n",
       "      <td>house</td>\n",
       "      <td>Pilar</td>\n",
       "      <td>|Argentina|Bs.As. G.B.A. Zona Norte|Pilar|</td>\n",
       "      <td>Argentina</td>\n",
       "      <td>Bs.As. G.B.A. Zona Norte</td>\n",
       "      <td>NaN</td>\n",
       "      <td>NaN</td>\n",
       "      <td>NaN</td>\n",
       "      <td>250000.0</td>\n",
       "      <td>USD</td>\n",
       "      <td>4411125.0</td>\n",
       "      <td>250000.0</td>\n",
       "      <td>215.0</td>\n",
       "      <td>215.0</td>\n",
       "      <td>1162.790698</td>\n",
       "      <td>1162.790698</td>\n",
       "      <td>NaN</td>\n",
       "      <td>NaN</td>\n",
       "      <td>NaN</td>\n",
       "      <td>Muy linda casa de 2 plantas de gran calidad constructiva en lote interno de 640mts en Country Mapuche. En la P.B se ingresa al Living Comedor con hogar. Cocina con espacio para comedor diario. Escritorio independiente con acceso al toilette de la casa, lo cual lo convierte en una potencial habit...</td>\n",
       "      <td>Bustamante Propiedades | Mapuche en Venta</td>\n",
       "    </tr>\n",
       "    <tr>\n",
       "      <th>46506</th>\n",
       "      <td>sell</td>\n",
       "      <td>house</td>\n",
       "      <td>Martínez</td>\n",
       "      <td>|Argentina|Bs.As. G.B.A. Zona Norte|San Isidro|Martínez|</td>\n",
       "      <td>Argentina</td>\n",
       "      <td>Bs.As. G.B.A. Zona Norte</td>\n",
       "      <td>NaN</td>\n",
       "      <td>NaN</td>\n",
       "      <td>NaN</td>\n",
       "      <td>750000.0</td>\n",
       "      <td>USD</td>\n",
       "      <td>13233375.0</td>\n",
       "      <td>750000.0</td>\n",
       "      <td>754.0</td>\n",
       "      <td>340.0</td>\n",
       "      <td>994.694960</td>\n",
       "      <td>2205.882353</td>\n",
       "      <td>NaN</td>\n",
       "      <td>NaN</td>\n",
       "      <td>NaN</td>\n",
       "      <td>Excelente chalet inglÃ©s de estilo en dos plantas implantado sobre dos lotes (frente 17,32x 43,50 de fondo), totalmente original en pleno corazÃ³n de Martinez, a dos cuadras y media de Alvear, y del centro comercial. PrÃ³ximo a estaciÃ³n de tren y las Avenidas Santa Fe y Libertador. Importante h...</td>\n",
       "      <td>Casa 754m² con 2 Plantas en Muñiz 200, San Isidro, Martínez, por U$S 750.000</td>\n",
       "    </tr>\n",
       "    <tr>\n",
       "      <th>19758</th>\n",
       "      <td>sell</td>\n",
       "      <td>apartment</td>\n",
       "      <td>Palermo</td>\n",
       "      <td>|Argentina|Capital Federal|Palermo|</td>\n",
       "      <td>Argentina</td>\n",
       "      <td>Capital Federal</td>\n",
       "      <td>-34.58522,-58.426652</td>\n",
       "      <td>-34.58522</td>\n",
       "      <td>-58.426652</td>\n",
       "      <td>114000.0</td>\n",
       "      <td>USD</td>\n",
       "      <td>2011473.0</td>\n",
       "      <td>114000.0</td>\n",
       "      <td>NaN</td>\n",
       "      <td>44.0</td>\n",
       "      <td>NaN</td>\n",
       "      <td>2590.909091</td>\n",
       "      <td>1.0</td>\n",
       "      <td>2.0</td>\n",
       "      <td>NaN</td>\n",
       "      <td>Corredor Responsable: Mónica Silvia Martinuzzi - CUCICBA 5172Contacto: Verónica Zaltzman - MLS ID # 420621048-7Departamento de 2 amb de 44,6 m2 en excelente ubicación en Palermo Soho. A 3 cuadras de Plaza Italia y 3 de Juan B. Justo!!! Luminoso. Muy buena distribución. Hall de entrada, cocina in...</td>\n",
       "      <td>Venta 2 amb en inmejorable zona de Palermo Soho!</td>\n",
       "    </tr>\n",
       "  </tbody>\n",
       "</table>\n",
       "</div>"
      ],
      "text/plain": [
       "      operation property_type place_name  \\\n",
       "54098      sell         house      Pilar   \n",
       "46506      sell         house   Martínez   \n",
       "19758      sell     apartment    Palermo   \n",
       "\n",
       "                                        place_with_parent_names country_name  \\\n",
       "54098                |Argentina|Bs.As. G.B.A. Zona Norte|Pilar|    Argentina   \n",
       "46506  |Argentina|Bs.As. G.B.A. Zona Norte|San Isidro|Martínez|    Argentina   \n",
       "19758                       |Argentina|Capital Federal|Palermo|    Argentina   \n",
       "\n",
       "                     state_name               lat-lon       lat        lon  \\\n",
       "54098  Bs.As. G.B.A. Zona Norte                   NaN       NaN        NaN   \n",
       "46506  Bs.As. G.B.A. Zona Norte                   NaN       NaN        NaN   \n",
       "19758           Capital Federal  -34.58522,-58.426652 -34.58522 -58.426652   \n",
       "\n",
       "          price currency  price_aprox_local_currency  price_aprox_usd  \\\n",
       "54098  250000.0      USD                   4411125.0         250000.0   \n",
       "46506  750000.0      USD                  13233375.0         750000.0   \n",
       "19758  114000.0      USD                   2011473.0         114000.0   \n",
       "\n",
       "       surface_total_in_m2  surface_covered_in_m2  price_usd_per_m2  \\\n",
       "54098                215.0                  215.0       1162.790698   \n",
       "46506                754.0                  340.0        994.694960   \n",
       "19758                  NaN                   44.0               NaN   \n",
       "\n",
       "       price_per_m2  floor  rooms  expenses  \\\n",
       "54098   1162.790698    NaN    NaN       NaN   \n",
       "46506   2205.882353    NaN    NaN       NaN   \n",
       "19758   2590.909091    1.0    2.0       NaN   \n",
       "\n",
       "                                                                                                                                                                                                                                                                                                       description  \\\n",
       "54098  Muy linda casa de 2 plantas de gran calidad constructiva en lote interno de 640mts en Country Mapuche. En la P.B se ingresa al Living Comedor con hogar. Cocina con espacio para comedor diario. Escritorio independiente con acceso al toilette de la casa, lo cual lo convierte en una potencial habit...   \n",
       "46506  Excelente chalet inglÃ©s de estilo en dos plantas implantado sobre dos lotes (frente 17,32x 43,50 de fondo), totalmente original en pleno corazÃ³n de Martinez, a dos cuadras y media de Alvear, y del centro comercial. PrÃ³ximo a estaciÃ³n de tren y las Avenidas Santa Fe y Libertador. Importante h...   \n",
       "19758  Corredor Responsable: Mónica Silvia Martinuzzi - CUCICBA 5172Contacto: Verónica Zaltzman - MLS ID # 420621048-7Departamento de 2 amb de 44,6 m2 en excelente ubicación en Palermo Soho. A 3 cuadras de Plaza Italia y 3 de Juan B. Justo!!! Luminoso. Muy buena distribución. Hall de entrada, cocina in...   \n",
       "\n",
       "                                                                              title  \n",
       "54098                                     Bustamante Propiedades | Mapuche en Venta  \n",
       "46506  Casa 754m² con 2 Plantas en Muñiz 200, San Isidro, Martínez, por U$S 750.000  \n",
       "19758                              Venta 2 amb en inmejorable zona de Palermo Soho!  "
      ]
     },
     "execution_count": 343,
     "metadata": {},
     "output_type": "execute_result"
    }
   ],
   "source": [
    "df.sample(3) "
   ]
  },
  {
   "cell_type": "markdown",
   "metadata": {},
   "source": [
    "Vamos a ver que columnas se encuentran con valores nulos para luego poder completar los mismos con diferentes tecnicas de imputacion"
   ]
  },
  {
   "cell_type": "code",
   "execution_count": 344,
   "metadata": {},
   "outputs": [
    {
     "data": {
      "text/plain": [
       "operation                          0\n",
       "property_type                      0\n",
       "place_name                        23\n",
       "place_with_parent_names            0\n",
       "country_name                       0\n",
       "state_name                         0\n",
       "lat-lon                        51550\n",
       "lat                            51550\n",
       "lon                            51550\n",
       "price                          20410\n",
       "currency                       20411\n",
       "price_aprox_local_currency     20410\n",
       "price_aprox_usd                20410\n",
       "surface_total_in_m2            39328\n",
       "surface_covered_in_m2          19907\n",
       "price_usd_per_m2               52603\n",
       "price_per_m2                   33562\n",
       "floor                         113321\n",
       "rooms                          73830\n",
       "expenses                      106958\n",
       "description                        2\n",
       "title                              0\n",
       "dtype: int64"
      ]
     },
     "execution_count": 344,
     "metadata": {},
     "output_type": "execute_result"
    }
   ],
   "source": [
    "# Extraigo las columnas que tienen valores nulos\n",
    "df.isnull().sum()"
   ]
  },
  {
   "cell_type": "markdown",
   "metadata": {},
   "source": [
    "Podemos ver que los campos `operation`, `property_type`, `place_with_parent_names`, `country_name`, `state_name` y `title` no contien datos nulos.\n",
    "Vamos a ver que porcentaje de las columnas nulas contienen datos nulos"
   ]
  },
  {
   "cell_type": "code",
   "execution_count": 345,
   "metadata": {},
   "outputs": [
    {
     "name": "stdout",
     "output_type": "stream",
     "text": [
      "-> place_name tiene 0.019 % valores nulos\n",
      "-> lat-lon tiene 42.526 % valores nulos\n",
      "-> lat tiene 42.526 % valores nulos\n",
      "-> lon tiene 42.526 % valores nulos\n",
      "-> price tiene 16.837 % valores nulos\n",
      "-> currency tiene 16.838 % valores nulos\n",
      "-> price_aprox_local_currency tiene 16.837 % valores nulos\n",
      "-> price_aprox_usd tiene 16.837 % valores nulos\n",
      "-> surface_total_in_m2 tiene 32.443 % valores nulos\n",
      "-> surface_covered_in_m2 tiene 16.422 % valores nulos\n",
      "-> price_usd_per_m2 tiene 43.395 % valores nulos\n",
      "-> price_per_m2 tiene 27.687 % valores nulos\n",
      "-> floor tiene 93.484 % valores nulos\n",
      "-> rooms tiene 60.906 % valores nulos\n",
      "-> expenses tiene 88.235 % valores nulos\n",
      "-> description tiene 0.002 % valores nulos\n"
     ]
    }
   ],
   "source": [
    "df_null = df.isnull().sum()\n",
    "df_null = df_null[df_null > 0]\n",
    "rows = df.shape[0]\n",
    "for col in df_null.index:\n",
    "    por = \"{0:.3f}\".format((df_null[col]/rows) *100)\n",
    "    print(f\"-> {col} tiene {por} % valores nulos\")"
   ]
  },
  {
   "cell_type": "markdown",
   "metadata": {},
   "source": [
    "Vamosa imprimir una muestra de cada uno de los campos que contiene campos vacios"
   ]
  },
  {
   "cell_type": "code",
   "execution_count": 346,
   "metadata": {},
   "outputs": [
    {
     "name": "stdout",
     "output_type": "stream",
     "text": [
      "place_name : Mar del Plata\n",
      "lat-lon : nan\n",
      "lat : nan\n",
      "lon : nan\n",
      "price : 178000.0\n",
      "currency : nan\n",
      "price_aprox_local_currency : 6528465.0\n",
      "price_aprox_usd : 135000.0\n",
      "surface_total_in_m2 : 38.0\n",
      "surface_covered_in_m2 : 360.0\n",
      "price_usd_per_m2 : 1588.235294117647\n",
      "price_per_m2 : 3404.255319148936\n",
      "floor : nan\n",
      "rooms : nan\n",
      "expenses : nan\n",
      "description : Edificio Pandora; Departamento 2 ambientes a 200 metros del mar.Edificio Pandora; Departamento 2 ambientes ubicado en el Paseo 132 y Av 2 bis (calle cortada, con articulado) excelente ubicación 1 habitación matrimonial, 1 baño y cocina comedor.\n"
     ]
    }
   ],
   "source": [
    "for field in df_null.index:\n",
    "    print(f'{field} : {df[field][np.random.randint(0, df.shape[0])]}')\n"
   ]
  },
  {
   "cell_type": "markdown",
   "metadata": {},
   "source": [
    "## Datos faltantes\n",
    "Tenemos distintas maneras de tratar los datos faltantes, vamos a ir analizando en cada uno de estas columnas que metodo se ajusta mejor"
   ]
  },
  {
   "cell_type": "markdown",
   "metadata": {},
   "source": [
    "### `country_name`\n",
    "Esta columna no aporta ningun valor, ya que todas las filas contienen el mismo valor \"Argentina\""
   ]
  },
  {
   "cell_type": "code",
   "execution_count": 347,
   "metadata": {},
   "outputs": [
    {
     "name": "stdout",
     "output_type": "stream",
     "text": [
      "121219 duplicados de 121220\n",
      "Columnas restantes:  21\n"
     ]
    }
   ],
   "source": [
    "duplicated = df.country_name.duplicated().sum()\n",
    "total = df.country_name.size\n",
    "print(f'{duplicated} duplicados de {total}')\n",
    "try:\n",
    "    df.drop(labels=['country_name'], axis=1, inplace=True)\n",
    "except:\n",
    "    print(\"Ya no hay columnas country_name\")\n",
    "print(\"Columnas restantes: \", df.shape[1])"
   ]
  },
  {
   "cell_type": "markdown",
   "metadata": {},
   "source": [
    "### `place_name` & `description`\n",
    "La columna `place_name` con datos nulos representa el 0.019 % y `description` el 0.002% , en este caso vamos a eliminar las filas nulas directamente."
   ]
  },
  {
   "cell_type": "code",
   "execution_count": 348,
   "metadata": {},
   "outputs": [
    {
     "name": "stdout",
     "output_type": "stream",
     "text": [
      "operation                      0.000000\n",
      "property_type                  0.000000\n",
      "place_name                     0.000000\n",
      "place_with_parent_names        0.000000\n",
      "state_name                     0.000000\n",
      "lat-lon                       42.533933\n",
      "lat                           42.533933\n",
      "lon                           42.533933\n",
      "price                         16.840629\n",
      "currency                      16.841454\n",
      "price_aprox_local_currency    16.840629\n",
      "price_aprox_usd               16.840629\n",
      "surface_total_in_m2           32.444408\n",
      "surface_covered_in_m2         16.424770\n",
      "price_usd_per_m2              43.397830\n",
      "price_per_m2                  27.691736\n",
      "floor                         93.482404\n",
      "rooms                         60.904328\n",
      "expenses                      88.232188\n",
      "description                    0.000000\n",
      "title                          0.000000\n",
      "dtype: float64\n"
     ]
    }
   ],
   "source": [
    "df.dropna(\n",
    "    axis=0,\n",
    "    how='any',\n",
    "    subset=[\"description\", \"place_name\"],\n",
    "    inplace=True\n",
    ")\n",
    "# Datos nulos:\n",
    "showPerOfNull(df)"
   ]
  },
  {
   "cell_type": "markdown",
   "metadata": {},
   "source": [
    "### `lat-lon`, `lat` & `lon`\n",
    "Estas columnas contienen 42.534 % de sus filas vacios, no podemos utilizar esto datos para un estudio por lo tanto vamos a eliminar las columnas directamente"
   ]
  },
  {
   "cell_type": "code",
   "execution_count": 349,
   "metadata": {},
   "outputs": [
    {
     "name": "stdout",
     "output_type": "stream",
     "text": [
      "operation                      0.000000\n",
      "property_type                  0.000000\n",
      "place_name                     0.000000\n",
      "place_with_parent_names        0.000000\n",
      "state_name                     0.000000\n",
      "price                         16.840629\n",
      "currency                      16.841454\n",
      "price_aprox_local_currency    16.840629\n",
      "price_aprox_usd               16.840629\n",
      "surface_total_in_m2           32.444408\n",
      "surface_covered_in_m2         16.424770\n",
      "price_usd_per_m2              43.397830\n",
      "price_per_m2                  27.691736\n",
      "floor                         93.482404\n",
      "rooms                         60.904328\n",
      "expenses                      88.232188\n",
      "description                    0.000000\n",
      "title                          0.000000\n",
      "dtype: float64\n"
     ]
    }
   ],
   "source": [
    "try:\n",
    "    df.drop(labels=['lat-lon', 'lat', 'lon'], axis=1, inplace=True)\n",
    "except:\n",
    "    print(\"Ya no hay columnas lat-lon, lat, lon\")\n",
    "# Datos nulos:\n",
    "showPerOfNull(df)"
   ]
  },
  {
   "cell_type": "markdown",
   "metadata": {},
   "source": [
    "### `rooms`\n",
    "La columna `rooms` tiene 60.904 % de sus datos nulos\n",
    "\n",
    "Para poder imputar sus datos vamos a extraerlos a partir de la columna `descripcion` & `title` utilizando expresiones regulares\n"
   ]
  },
  {
   "cell_type": "code",
   "execution_count": 350,
   "metadata": {},
   "outputs": [
    {
     "name": "stdout",
     "output_type": "stream",
     "text": [
      "Datos nulos antes de rellenar 'rooms': 60.9043%\n",
      "Datos nulos despues de rellenar 'rooms:'15.8579%\n",
      "operation                      0.000000\n",
      "property_type                  0.000000\n",
      "place_name                     0.000000\n",
      "place_with_parent_names        0.000000\n",
      "state_name                     0.000000\n",
      "price                         16.840629\n",
      "currency                      16.841454\n",
      "price_aprox_local_currency    16.840629\n",
      "price_aprox_usd               16.840629\n",
      "surface_total_in_m2           32.444408\n",
      "surface_covered_in_m2         16.424770\n",
      "price_usd_per_m2              43.397830\n",
      "price_per_m2                  27.691736\n",
      "floor                         93.482404\n",
      "rooms                         15.857915\n",
      "expenses                      88.232188\n",
      "description                    0.000000\n",
      "title                          0.000000\n",
      "dtype: float64\n"
     ]
    }
   ],
   "source": [
    "\n",
    "exp= r\"([0-9]|(un|dos|tres|cuatro|cinco|seis|siete|ocho|nueve))+\\s(hab|amb|dor|pieza)+\"\n",
    "roomExp =re.compile(exp, re.MULTILINE | re.IGNORECASE)\n",
    "\n",
    "print(\"Datos nulos antes de rellenar 'rooms': \" +\"{0:.4f}\".format(showPerOfNull(df.rooms, show=False)) + \"%\")\n",
    "# Aplico funcion de imputacion\n",
    "df[\"rooms\"] = df.apply(lambda x: fillAmountVar(data_row=x, reg_exp=roomExp, col_input=\"description\", col_output=\"rooms\", reg_exp_group=1), axis=1)\n",
    "df[\"rooms\"] = df.apply(lambda x: fillAmountVar(data_row=x, reg_exp=roomExp, col_input=\"title\", col_output=\"rooms\", reg_exp_group=1), axis=1)\n",
    "\n",
    "print(\"Datos nulos despues de rellenar 'rooms:'\" +\"{0:.4f}\".format(showPerOfNull(df.rooms, show=False)) + \"%\")\n",
    "showPerOfNull(df)"
   ]
  },
  {
   "cell_type": "markdown",
   "metadata": {},
   "source": [
    "### `floor`\n",
    "La columna `floor` tiene 93.482 % de sus datos nulos\n",
    "\n",
    "Para poder imputar sus datos vamos a extraerlos a partir de la columna `descripcion` & `title` utilizando expresiones regulares"
   ]
  },
  {
   "cell_type": "code",
   "execution_count": 351,
   "metadata": {},
   "outputs": [],
   "source": [
    "\n",
    "# exp= r\"([0-9]|(un|dos|tres|cuatro|cinco|seis|siete|ocho|nueve))+\\s(hab|amb|dor|pieza)+\"\n",
    "# floorExp =re.compile(exp, re.MULTILINE | re.IGNORECASE)\n",
    "\n",
    "# print(\"Datos nulos antes de rellenar 'floor': \" +\"{0:.4f}\".format(showPerOfNull(df.floor, show=False)) + \"%\")\n",
    "# # Aplico funcion de imputacion\n",
    "# df[\"floor\"] = df.apply(lambda x: fillAmountVar(data_row=x, reg_exp=floorExp, col_input=\"description\", col_output=\"floor\", reg_exp_group=1), axis=1)\n",
    "# df[\"floor\"] = df.apply(lambda x: fillAmountVar(data_row=x, reg_exp=floorExp, col_input=\"title\", col_output=\"floor\", reg_exp_group=1), axis=1)\n",
    "\n",
    "# print(\"Datos nulos despues de rellenar 'floor:'\" +\"{0:.4f}\".format(showPerOfNull(df.rooms, show=False)) + \"%\")\n",
    "# showPerOfNull(df)"
   ]
  }
 ],
 "metadata": {
  "interpreter": {
   "hash": "4372b1848ab4d20666fdd5ebf000d0b9b72f9d72c88eb9025a2c14caf722bc62"
  },
  "kernelspec": {
   "display_name": "Python 3.8.13 ('dhdsblend2021')",
   "language": "python",
   "name": "python3"
  },
  "language_info": {
   "codemirror_mode": {
    "name": "ipython",
    "version": 3
   },
   "file_extension": ".py",
   "mimetype": "text/x-python",
   "name": "python",
   "nbconvert_exporter": "python",
   "pygments_lexer": "ipython3",
   "version": "3.8.13"
  },
  "orig_nbformat": 4
 },
 "nbformat": 4,
 "nbformat_minor": 2
}
