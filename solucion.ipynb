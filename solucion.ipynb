{
 "cells": [
  {
   "cell_type": "code",
   "execution_count": 2,
   "metadata": {},
   "outputs": [],
   "source": [
    "# Preparo entorno de ejecucion\n",
    "import pandas as pd\n",
    "import numpy as np\n",
    "import re\n",
    "import plotly.express as px\n",
    "# Funciones auxiliares\n",
    "from script_aux import *\n",
    "# Configuro display de pandas\n",
    "pd.set_option('display.max_columns', 500)\n",
    "pd.set_option('display.max_colwidth', None)\n"
   ]
  },
  {
   "cell_type": "markdown",
   "metadata": {},
   "source": [
    "# Objetivo Principal\n",
    "**Limpiar informacion proveniente de la aplicacion properatti**\n",
    "Se nos presenta un archivo que contienen la informacion sobre imbuebles de distintas regiones de argentina, el objetivo de este desafio es \"limpiar\" estos datos para posteriormente armar un modelo que permita estimar el precio por metros cuadrados de un nuevo imueble.\n",
    "\n",
    "Este archivo se le conoce como DataFrame, este tiene diferentes columnas (variables) entre estas son:\n",
    "- operation: *tipo de operacion*\n",
    "- property_type: *tipo de propiedad* \n",
    "- place_name: *ciudad donde se encuentra*\n",
    "- place_with_parent_names: *place name, con provincia*\n",
    "- country_name: *pais donde se ubica*\n",
    "- state_name: *Proviencia*\n",
    "- geonames_id: *identificador en sistema de geonames*\n",
    "- lat-lon: *ubicacion por latitud y longitud*\n",
    "- lat: *latitud*\n",
    "- lon: *longitud*\n",
    "- price: *precio*\n",
    "- currency: *moneda del precio*\n",
    "- price_aprox_local_currency: *precio aproximado en moneda local*\n",
    "- price_aprox_usd: *precio aproximado en dolares*\n",
    "- surface_total_in_m2: *superficie total en metros cuadrados*\n",
    "- surface_covered_in_m2: *superfice cubierta*\n",
    "- price_usd_per_m2: **precio en dolares por metros cuadrados**\n",
    "- price_per_m2: *precio por metro cuadrados*\n",
    "- floor: *cantidad de pisos*\n",
    "- rooms: *habitaciones o ambientes*\n",
    "- expenses: *precio de expensas*\n",
    "- properati_url: *url de imueble en properatti*\n",
    "- description: *descripcion proporcionada*\n",
    "- title: *titulo proporcionado*\n",
    "- image_thumbnail: *url a imagen miniatura*\n",
    "\n",
    "Estos son las diferentes variables que tenemos en el data frame. Muchos de estos campos estan incompletos, nuestro obejetivo sera completarlos para luego discretizar estas varaibles.\n",
    "\n"
   ]
  },
  {
   "cell_type": "markdown",
   "metadata": {},
   "source": [
    "### Analisis exploratorio\n",
    "Antes de armar un modelo de regresion debemos preparar el data set vamos realizar un analsis exploratorio.\n",
    "\n",
    "Vamos a eliminar columnas que no aportan informacion significativa de forma inmediata\n",
    "Entre estas tenemos: \n",
    "- 'properati_url'\n",
    "- 'image_thumbnail'\n",
    "- 'geonames_id'"
   ]
  },
  {
   "cell_type": "code",
   "execution_count": 3,
   "metadata": {},
   "outputs": [
    {
     "name": "stdout",
     "output_type": "stream",
     "text": [
      "Tamanio del data frame:  25  columnas y  121220  filas \n",
      "\n",
      "Columnas restantes:  22\n",
      "-> operation\n",
      "-> property_type\n",
      "-> place_name\n",
      "-> place_with_parent_names\n",
      "-> country_name\n",
      "-> state_name\n",
      "-> lat-lon\n",
      "-> lat\n",
      "-> lon\n",
      "-> price\n",
      "-> currency\n",
      "-> price_aprox_local_currency\n",
      "-> price_aprox_usd\n",
      "-> surface_total_in_m2\n",
      "-> surface_covered_in_m2\n",
      "-> price_usd_per_m2\n",
      "-> price_per_m2\n",
      "-> floor\n",
      "-> rooms\n",
      "-> expenses\n",
      "-> description\n",
      "-> title\n"
     ]
    }
   ],
   "source": [
    "\n",
    "# Cargo data en data frame\n",
    "df = pd.read_csv('properatti.csv', index_col=0)\n",
    "print(\"Tamanio del data frame: \", df.shape[1], \" columnas y \", df.shape[0], \" filas \\n\")\n",
    "\n",
    "# Eliminamos columnas que no nos interesan\n",
    "try:\n",
    "    df.drop(labels=['properati_url', 'image_thumbnail', 'geonames_id'], axis=1, inplace=True)\n",
    "except:\n",
    "    print(\"Ya no hay columnas properati_url, image_thumbnail, geonames_id\")\n",
    "print(\"Columnas restantes: \", df.shape[1])\n",
    "for col in df.columns:\n",
    "    print(\"->\", col)"
   ]
  },
  {
   "cell_type": "markdown",
   "metadata": {},
   "source": [
    "Vamos a tomar una muestra para comprender el problema"
   ]
  },
  {
   "cell_type": "code",
   "execution_count": 4,
   "metadata": {},
   "outputs": [
    {
     "data": {
      "text/html": [
       "<div>\n",
       "<style scoped>\n",
       "    .dataframe tbody tr th:only-of-type {\n",
       "        vertical-align: middle;\n",
       "    }\n",
       "\n",
       "    .dataframe tbody tr th {\n",
       "        vertical-align: top;\n",
       "    }\n",
       "\n",
       "    .dataframe thead th {\n",
       "        text-align: right;\n",
       "    }\n",
       "</style>\n",
       "<table border=\"1\" class=\"dataframe\">\n",
       "  <thead>\n",
       "    <tr style=\"text-align: right;\">\n",
       "      <th></th>\n",
       "      <th>operation</th>\n",
       "      <th>property_type</th>\n",
       "      <th>place_name</th>\n",
       "      <th>place_with_parent_names</th>\n",
       "      <th>country_name</th>\n",
       "      <th>state_name</th>\n",
       "      <th>lat-lon</th>\n",
       "      <th>lat</th>\n",
       "      <th>lon</th>\n",
       "      <th>price</th>\n",
       "      <th>currency</th>\n",
       "      <th>price_aprox_local_currency</th>\n",
       "      <th>price_aprox_usd</th>\n",
       "      <th>surface_total_in_m2</th>\n",
       "      <th>surface_covered_in_m2</th>\n",
       "      <th>price_usd_per_m2</th>\n",
       "      <th>price_per_m2</th>\n",
       "      <th>floor</th>\n",
       "      <th>rooms</th>\n",
       "      <th>expenses</th>\n",
       "      <th>description</th>\n",
       "      <th>title</th>\n",
       "    </tr>\n",
       "  </thead>\n",
       "  <tbody>\n",
       "    <tr>\n",
       "      <th>28283</th>\n",
       "      <td>sell</td>\n",
       "      <td>apartment</td>\n",
       "      <td>San Fernando</td>\n",
       "      <td>|Argentina|Bs.As. G.B.A. Zona Norte|San Fernando|</td>\n",
       "      <td>Argentina</td>\n",
       "      <td>Bs.As. G.B.A. Zona Norte</td>\n",
       "      <td>NaN</td>\n",
       "      <td>NaN</td>\n",
       "      <td>NaN</td>\n",
       "      <td>151000.0</td>\n",
       "      <td>USD</td>\n",
       "      <td>2664319.5</td>\n",
       "      <td>151000.0</td>\n",
       "      <td>73.0</td>\n",
       "      <td>73.0</td>\n",
       "      <td>2068.493151</td>\n",
       "      <td>2068.493151</td>\n",
       "      <td>1.0</td>\n",
       "      <td>NaN</td>\n",
       "      <td>NaN</td>\n",
       "      <td>Departamento de 3 ambientes con balcÃ³n corrido de 10x1,50 mts - cocina con lavadero (buenos muebles) - living/comedor de buen tamaÃ±o y pisos cerÃ¡micos - dormitorio en suite - otro dormitorio con placard - baÃ±o con ducha.- Caldera central - calefacciÃ³n por tiro balanceado - 3 aires acondicionado tipo splits.- Sin cochera - ARBA $ 780 - Municipal $ 750.- Sujeto a reubicaciÃ³n - se puede alquilar cochera en el edificio.-</td>\n",
       "      <td>Departamento 73m² con Plantas en Peron, Av. Pres. Tte. Gral. J. D. 800, Bs.As. G.B.A. Zona Norte, San Fernando, por U$S 151.000</td>\n",
       "    </tr>\n",
       "  </tbody>\n",
       "</table>\n",
       "</div>"
      ],
      "text/plain": [
       "      operation property_type    place_name  \\\n",
       "28283      sell     apartment  San Fernando   \n",
       "\n",
       "                                 place_with_parent_names country_name  \\\n",
       "28283  |Argentina|Bs.As. G.B.A. Zona Norte|San Fernando|    Argentina   \n",
       "\n",
       "                     state_name lat-lon  lat  lon     price currency  \\\n",
       "28283  Bs.As. G.B.A. Zona Norte     NaN  NaN  NaN  151000.0      USD   \n",
       "\n",
       "       price_aprox_local_currency  price_aprox_usd  surface_total_in_m2  \\\n",
       "28283                   2664319.5         151000.0                 73.0   \n",
       "\n",
       "       surface_covered_in_m2  price_usd_per_m2  price_per_m2  floor  rooms  \\\n",
       "28283                   73.0       2068.493151   2068.493151    1.0    NaN   \n",
       "\n",
       "       expenses  \\\n",
       "28283       NaN   \n",
       "\n",
       "                                                                                                                                                                                                                                                                                                                                                                                                                                      description  \\\n",
       "28283  Departamento de 3 ambientes con balcÃ³n corrido de 10x1,50 mts - cocina con lavadero (buenos muebles) - living/comedor de buen tamaÃ±o y pisos cerÃ¡micos - dormitorio en suite - otro dormitorio con placard - baÃ±o con ducha.- Caldera central - calefacciÃ³n por tiro balanceado - 3 aires acondicionado tipo splits.- Sin cochera - ARBA $ 780 - Municipal $ 750.- Sujeto a reubicaciÃ³n - se puede alquilar cochera en el edificio.-   \n",
       "\n",
       "                                                                                                                                 title  \n",
       "28283  Departamento 73m² con Plantas en Peron, Av. Pres. Tte. Gral. J. D. 800, Bs.As. G.B.A. Zona Norte, San Fernando, por U$S 151.000  "
      ]
     },
     "execution_count": 4,
     "metadata": {},
     "output_type": "execute_result"
    }
   ],
   "source": [
    "df.sample(1)"
   ]
  },
  {
   "cell_type": "markdown",
   "metadata": {},
   "source": [
    "Vamos a ver que columnas se encuentran con valores nulos para luego poder completar los mismos con diferentes tecnicas de imputacion"
   ]
  },
  {
   "cell_type": "code",
   "execution_count": 5,
   "metadata": {},
   "outputs": [
    {
     "data": {
      "text/plain": [
       "operation                          0\n",
       "property_type                      0\n",
       "place_name                        23\n",
       "place_with_parent_names            0\n",
       "country_name                       0\n",
       "state_name                         0\n",
       "lat-lon                        51550\n",
       "lat                            51550\n",
       "lon                            51550\n",
       "price                          20410\n",
       "currency                       20411\n",
       "price_aprox_local_currency     20410\n",
       "price_aprox_usd                20410\n",
       "surface_total_in_m2            39328\n",
       "surface_covered_in_m2          19907\n",
       "price_usd_per_m2               52603\n",
       "price_per_m2                   33562\n",
       "floor                         113321\n",
       "rooms                          73830\n",
       "expenses                      106958\n",
       "description                        2\n",
       "title                              0\n",
       "dtype: int64"
      ]
     },
     "execution_count": 5,
     "metadata": {},
     "output_type": "execute_result"
    }
   ],
   "source": [
    "# Extraigo las columnas que tienen valores nulos\n",
    "df.isnull().sum()"
   ]
  },
  {
   "cell_type": "markdown",
   "metadata": {},
   "source": [
    "Podemos ver que los campos `operation`, `property_type`, `place_with_parent_names`, `country_name`, `state_name` y `title` no contien datos nulos.\n",
    "Vamos a ver que porcentaje de las columnas nulas contienen datos nulos"
   ]
  },
  {
   "cell_type": "code",
   "execution_count": 6,
   "metadata": {},
   "outputs": [
    {
     "name": "stdout",
     "output_type": "stream",
     "text": [
      "-> place_name tiene 0.019 % valores nulos\n",
      "-> lat-lon tiene 42.526 % valores nulos\n",
      "-> lat tiene 42.526 % valores nulos\n",
      "-> lon tiene 42.526 % valores nulos\n",
      "-> price tiene 16.837 % valores nulos\n",
      "-> currency tiene 16.838 % valores nulos\n",
      "-> price_aprox_local_currency tiene 16.837 % valores nulos\n",
      "-> price_aprox_usd tiene 16.837 % valores nulos\n",
      "-> surface_total_in_m2 tiene 32.443 % valores nulos\n",
      "-> surface_covered_in_m2 tiene 16.422 % valores nulos\n",
      "-> price_usd_per_m2 tiene 43.395 % valores nulos\n",
      "-> price_per_m2 tiene 27.687 % valores nulos\n",
      "-> floor tiene 93.484 % valores nulos\n",
      "-> rooms tiene 60.906 % valores nulos\n",
      "-> expenses tiene 88.235 % valores nulos\n",
      "-> description tiene 0.002 % valores nulos\n"
     ]
    }
   ],
   "source": [
    "df_null = df.isnull().sum()\n",
    "df_null = df_null[df_null > 0]\n",
    "rows = df.shape[0]\n",
    "for col in df_null.index:\n",
    "    por = \"{0:.3f}\".format((df_null[col]/rows) *100)\n",
    "    print(f\"-> {col} tiene {por} % valores nulos\")"
   ]
  },
  {
   "cell_type": "markdown",
   "metadata": {},
   "source": [
    "Vamosa imprimir una muestra de cada uno de los campos."
   ]
  },
  {
   "cell_type": "code",
   "execution_count": 7,
   "metadata": {},
   "outputs": [
    {
     "name": "stdout",
     "output_type": "stream",
     "text": [
      "operation : sell\n",
      "property_type : house\n",
      "place_name : Mar del Plata\n",
      "place_with_parent_names : |Argentina|Buenos Aires Costa Atlántica|Mar del Plata|\n",
      "country_name : Argentina\n",
      "state_name : Bs.As. G.B.A. Zona Norte\n",
      "lat-lon : -34.5300862,-58.7045387\n",
      "lat : -34.535910986\n",
      "lon : nan\n",
      "price : 171181.0\n",
      "currency : nan\n",
      "price_aprox_local_currency : 4499347.5\n",
      "price_aprox_usd : 61692.04\n",
      "surface_total_in_m2 : 42.0\n",
      "surface_covered_in_m2 : 96.0\n",
      "price_usd_per_m2 : nan\n",
      "price_per_m2 : 2726.027397260274\n",
      "floor : nan\n",
      "rooms : nan\n",
      "expenses : nan\n",
      "description : Venta de Casa tres ambientes en PH en Castelar con cochera semicubiertaLa propiedad esta compuesta por: living comedor con piso de cerámica rústica;  dos dormitorios, ambos con piso de parquet de pinotea y placares;  baño completo con bañera, piso de cerámica y vanitory (actualizado); cocina comedor con mesada de acero inoxidable, muebles bajo y sobre mesada; patio con piso de baldozones y lavadero semicubierto. En muy buen estado, magnífica ubicación, a una cuadra de av. D.F. Sarmiento. Excelente propiedad!\n",
      "title : Departamento - Macrocentro\n"
     ]
    }
   ],
   "source": [
    "for field in df:\n",
    "    print(f'{field} : {df[field][np.random.randint(0, df.shape[0])]}')\n"
   ]
  },
  {
   "cell_type": "markdown",
   "metadata": {},
   "source": [
    "## Datos faltantes\n",
    "Tenemos distintas maneras de tratar los datos faltantes, vamos a ir analizando en cada uno de estas columnas que metodo se ajusta mejor."
   ]
  },
  {
   "cell_type": "markdown",
   "metadata": {},
   "source": [
    "### `operation`\n",
    "El campo `operation` no tiene campos nulos, vamos a ver que valores contiene para ver si nos aporta informacion relevante"
   ]
  },
  {
   "cell_type": "code",
   "execution_count": 8,
   "metadata": {},
   "outputs": [
    {
     "data": {
      "text/plain": [
       "sell    121220\n",
       "Name: operation, dtype: int64"
      ]
     },
     "execution_count": 8,
     "metadata": {},
     "output_type": "execute_result"
    }
   ],
   "source": [
    "df.operation.value_counts()"
   ]
  },
  {
   "cell_type": "markdown",
   "metadata": {},
   "source": [
    "Como vemos todos sus campos tienen el mismo valor, \"sell\" lo que indica que se trarta de una venta. Esto es importante para interpretar el problema de negocio pero no aporta nueva informacion por lo tanto vamos a eliminarla."
   ]
  },
  {
   "cell_type": "code",
   "execution_count": 9,
   "metadata": {},
   "outputs": [
    {
     "name": "stdout",
     "output_type": "stream",
     "text": [
      "Ya no hay columnas sell\n",
      "Columnas totales:  22\n"
     ]
    }
   ],
   "source": [
    "try:\n",
    "    df.drop(labels=['sell'], axis=1, inplace=True)\n",
    "    print(\"Se elimino la columna sell\")\n",
    "except:\n",
    "    print(\"Ya no hay columnas sell\")\n",
    "print(\"Columnas totales: \", df.shape[1])"
   ]
  },
  {
   "cell_type": "markdown",
   "metadata": {},
   "source": [
    "### `country_name`\n",
    "El campo `country_name` no tiene valores nulos, veamos que valores contiene:"
   ]
  },
  {
   "cell_type": "code",
   "execution_count": 10,
   "metadata": {},
   "outputs": [
    {
     "data": {
      "text/plain": [
       "Argentina    121220\n",
       "Name: country_name, dtype: int64"
      ]
     },
     "execution_count": 10,
     "metadata": {},
     "output_type": "execute_result"
    }
   ],
   "source": [
    "df.country_name.value_counts()"
   ]
  },
  {
   "cell_type": "markdown",
   "metadata": {},
   "source": [
    "Sucede lo mismo que con el campo sell, porocedemos de la misma manera."
   ]
  },
  {
   "cell_type": "code",
   "execution_count": 11,
   "metadata": {},
   "outputs": [
    {
     "name": "stdout",
     "output_type": "stream",
     "text": [
      "Se elimino la columna country_name\n",
      "Columnas totales:  21\n"
     ]
    }
   ],
   "source": [
    "try:\n",
    "    df.drop(labels=['country_name'], axis=1, inplace=True)\n",
    "    print(\"Se elimino la columna country_name\")\n",
    "except:\n",
    "    print(\"Ya no hay columnas country_name\")\n",
    "print(\"Columnas totales: \", df.shape[1])"
   ]
  },
  {
   "cell_type": "markdown",
   "metadata": {},
   "source": [
    "### `place_name` & `description`\n",
    "La columna `place_name` con datos nulos representa el 0.019 % y `description` el 0.002% , en este caso vamos a eliminar las filas nulas directamente ya que representan un porcentaje muy bajo de las observaciones."
   ]
  },
  {
   "cell_type": "code",
   "execution_count": 12,
   "metadata": {},
   "outputs": [
    {
     "name": "stdout",
     "output_type": "stream",
     "text": [
      "Datos nulos en description:  0\n",
      "Datos nulos en place_name:  0\n"
     ]
    }
   ],
   "source": [
    "df.dropna(\n",
    "    axis=0,\n",
    "    how='any',\n",
    "    subset=[\"description\", \"place_name\"],\n",
    "    inplace=True\n",
    ")\n",
    "\n",
    "print(\"Datos nulos en description: \", df.description.isnull().sum())\n",
    "print(\"Datos nulos en place_name: \", df.place_name.isnull().sum())"
   ]
  },
  {
   "cell_type": "markdown",
   "metadata": {},
   "source": [
    "### `lat-lon`, `lat` & `lon`\n",
    "Estas columnas estan relacionadas entre si, y contienen la misma informacion.\n",
    "Para reducir su tamanio vamos eliminar las columnas `lat` y `lon` y nos vamos a quedar solo con `lat-lon`"
   ]
  },
  {
   "cell_type": "code",
   "execution_count": 13,
   "metadata": {},
   "outputs": [
    {
     "name": "stdout",
     "output_type": "stream",
     "text": [
      "Se elimino las columnas lat y lon\n",
      "Columnas totales:  19\n"
     ]
    }
   ],
   "source": [
    "try:\n",
    "    df.drop(labels=['lat', 'lon'], axis=1, inplace=True)\n",
    "    print(\"Se elimino las columnas lat y lon\")\n",
    "except:\n",
    "    print(\"Ya no hay columnas lat y lon\")\n",
    "print(\"Columnas totales: \", df.shape[1])"
   ]
  },
  {
   "cell_type": "markdown",
   "metadata": {},
   "source": [
    "### `currency`\n",
    "Vamos a intentar completar su valor desde la columna `descripcion` utilizando expresiones regulares, primero vamos a ver que valores contiene"
   ]
  },
  {
   "cell_type": "code",
   "execution_count": 14,
   "metadata": {},
   "outputs": [
    {
     "data": {
      "text/plain": [
       "USD    87563\n",
       "ARS    13218\n",
       "PEN        2\n",
       "UYU        1\n",
       "Name: currency, dtype: int64"
      ]
     },
     "execution_count": 14,
     "metadata": {},
     "output_type": "execute_result"
    }
   ],
   "source": [
    "df.currency.value_counts()"
   ]
  },
  {
   "cell_type": "markdown",
   "metadata": {},
   "source": [
    "Vemos que la mayoria de los datos son del tipo **USD** y **ARS**, y solo 3 registros tienen valor **PEN** y **UYU**. Para simplificar las cosas vamos a eliminar estas filas."
   ]
  },
  {
   "cell_type": "code",
   "execution_count": 15,
   "metadata": {},
   "outputs": [
    {
     "data": {
      "text/plain": [
       "USD    87563\n",
       "ARS    13218\n",
       "Name: currency, dtype: int64"
      ]
     },
     "execution_count": 15,
     "metadata": {},
     "output_type": "execute_result"
    }
   ],
   "source": [
    "mask_PEN = df[\"currency\"] == \"PEN\"\n",
    "mask_UYU = df[\"currency\"] == \"UYU\"\n",
    "mask = np.logical_or(mask_PEN, mask_UYU)\n",
    "idx = df.index[mask].to_list()\n",
    "df.drop(idx, inplace=True)\n",
    "df.currency.value_counts()"
   ]
  },
  {
   "cell_type": "markdown",
   "metadata": {},
   "source": [
    "Ahora vamos a completar los datos faltantes utilizando la columna `descripcion` y expresiones regulares:"
   ]
  },
  {
   "cell_type": "code",
   "execution_count": 16,
   "metadata": {},
   "outputs": [
    {
     "name": "stdout",
     "output_type": "stream",
     "text": [
      "Datos nulos antes de rellenar 'currency': 16.8419%\n",
      "Datos nulos despues de rellenar 'currency:'13.6214%\n"
     ]
    }
   ],
   "source": [
    "curExp = re.compile(r\"(pesos|dolares|USD|U\\$D|U\\$S)+\", re.IGNORECASE| re.MULTILINE) \n",
    "print(\"Datos nulos antes de rellenar 'currency': \" +\"{0:.4f}\".format(showPerOfNull(df.currency, show=False)) + \"%\")\n",
    "# Aplico funcion de imputacion\n",
    "df[\"currency\"] = df.apply(lambda x: inputCurrency(data_row=x, reg_exp=curExp, col_input=\"description\", col_output=\"currency\", reg_exp_group=1), axis=1)\n",
    "df[\"currency\"] = df.apply(lambda x: inputCurrency(data_row=x, reg_exp=curExp, col_input=\"title\", col_output=\"currency\", reg_exp_group=1), axis=1)\n",
    "\n",
    "print(\"Datos nulos despues de rellenar 'currency:'\" +\"{0:.4f}\".format(showPerOfNull(df.currency, show=False)) + \"%\")"
   ]
  },
  {
   "cell_type": "code",
   "execution_count": 17,
   "metadata": {},
   "outputs": [
    {
     "data": {
      "text/plain": [
       "USD    88852\n",
       "ARS    15832\n",
       "Name: currency, dtype: int64"
      ]
     },
     "execution_count": 17,
     "metadata": {},
     "output_type": "execute_result"
    }
   ],
   "source": [
    "df.currency.value_counts()"
   ]
  },
  {
   "cell_type": "markdown",
   "metadata": {},
   "source": [
    "### `rooms`\n",
    "La columna `rooms` tiene 60.904 % de sus datos nulos\n",
    "\n",
    "Para poder imputar sus datos vamos a extraerlos a partir de la columna `descripcion` & `title` utilizando expresiones regulares\n"
   ]
  },
  {
   "cell_type": "code",
   "execution_count": 18,
   "metadata": {},
   "outputs": [
    {
     "name": "stdout",
     "output_type": "stream",
     "text": [
      "Datos nulos antes de rellenar 'rooms': 60.9034%\n",
      "Datos nulos despues de rellenar 'rooms:'15.8575%\n"
     ]
    }
   ],
   "source": [
    "\n",
    "exp= r\"([0-9]|(un|dos|tres|cuatro|cinco|seis|siete|ocho|nueve))+\\s(hab|amb|dor|pieza)+\"\n",
    "roomExp =re.compile(exp, re.MULTILINE | re.IGNORECASE)\n",
    "\n",
    "print(\"Datos nulos antes de rellenar 'rooms': \" +\"{0:.4f}\".format(showPerOfNull(df.rooms, show=False)) + \"%\")\n",
    "# Aplico funcion de imputacion\n",
    "df[\"rooms\"] = df.apply(lambda x: inputNumber(data_row=x, reg_exp=roomExp, col_input=\"description\", col_output=\"rooms\", reg_exp_group=1), axis=1)\n",
    "df[\"rooms\"] = df.apply(lambda x: inputNumber(data_row=x, reg_exp=roomExp, col_input=\"title\", col_output=\"rooms\", reg_exp_group=1), axis=1)\n",
    "\n",
    "print(\"Datos nulos despues de rellenar 'rooms:'\" +\"{0:.4f}\".format(showPerOfNull(df.rooms, show=False)) + \"%\")"
   ]
  },
  {
   "cell_type": "markdown",
   "metadata": {},
   "source": [
    "Vamos a ver que valores tenemos en almacenados ahora:"
   ]
  },
  {
   "cell_type": "code",
   "execution_count": 19,
   "metadata": {},
   "outputs": [
    {
     "data": {
      "text/plain": [
       "2       26206\n",
       "3       24328\n",
       "2       11479\n",
       "4       10913\n",
       "1        9711\n",
       "1.0      7406\n",
       "3        5440\n",
       "5        2980\n",
       "4        1297\n",
       "6         798\n",
       "5         484\n",
       "7         325\n",
       "6.0       180\n",
       "8          83\n",
       "7.0        83\n",
       "0          79\n",
       "8.0        51\n",
       "9          44\n",
       "10.0       28\n",
       "9.0        18\n",
       "12.0       10\n",
       "11.0        7\n",
       "13.0        6\n",
       "22.0        4\n",
       "14.0        2\n",
       "17.0        2\n",
       "20.0        2\n",
       "30.0        2\n",
       "15.0        1\n",
       "21.0        1\n",
       "23.0        1\n",
       "31.0        1\n",
       "32.0        1\n",
       "19.0        1\n",
       "Name: rooms, dtype: int64"
      ]
     },
     "execution_count": 19,
     "metadata": {},
     "output_type": "execute_result"
    }
   ],
   "source": [
    "df.rooms.value_counts()"
   ]
  },
  {
   "cell_type": "markdown",
   "metadata": {},
   "source": [
    "Podemos ver 2 cosas, el tipo de dato de room no es el mismo para todos los casos, y tenemos muchos outliers, por esto vamos a eliminarlos para que no afecte nuestro modelos."
   ]
  },
  {
   "cell_type": "code",
   "execution_count": 20,
   "metadata": {},
   "outputs": [
    {
     "data": {
      "text/plain": [
       "<AxesSubplot:ylabel='Frequency'>"
      ]
     },
     "execution_count": 20,
     "metadata": {},
     "output_type": "execute_result"
    },
    {
     "data": {
      "image/png": "[encoded data removed]",
      "text/plain": [
       "<Figure size 432x288 with 1 Axes>"
      ]
     },
     "metadata": {
      "needs_background": "light"
     },
     "output_type": "display_data"
    }
   ],
   "source": [
    "df['rooms'] = df['rooms'].fillna(np.nan).astype(float)\n",
    "\n",
    "values_before_drop = df.shape[0]\n",
    "df[\"rooms\"].plot(kind=\"hist\", bins=20)"
   ]
  },
  {
   "cell_type": "markdown",
   "metadata": {},
   "source": [
    "Ya tenemos los valores de room en tipo `float` , ahora vamos a tratar con los outliers"
   ]
  },
  {
   "cell_type": "markdown",
   "metadata": {},
   "source": [
    "Vamos a eliminar las obaservaciones con 0 rooms ya que carece de sentido"
   ]
  },
  {
   "cell_type": "code",
   "execution_count": 21,
   "metadata": {},
   "outputs": [],
   "source": [
    "mask_nulos = df[\"rooms\"] == 0\n",
    "idx = df.index[mask_nulos].to_list()\n",
    "df.drop(idx, inplace=True)"
   ]
  },
  {
   "cell_type": "markdown",
   "metadata": {},
   "source": [
    "Ahora vamos a ver los outliers"
   ]
  },
  {
   "cell_type": "code",
   "execution_count": 22,
   "metadata": {},
   "outputs": [
    {
     "name": "stdout",
     "output_type": "stream",
     "text": [
      "Porcentaje de observaciones con rooms mayor o igual a 7: 0.0056 %\n"
     ]
    }
   ],
   "source": [
    "mask_GE_7 = df[\"rooms\"] >= 7\n",
    "per = df[\"rooms\"][mask_GE_7].notna().sum() / df.shape[0]\n",
    "print(f\"Porcentaje de observaciones con rooms mayor o igual a 7: {per:.4f} %\")"
   ]
  },
  {
   "cell_type": "markdown",
   "metadata": {},
   "source": [
    "Podemos ver que estos registros representan el 0.0056% de los datos totales por lo tanto podemos eliminarlos para que no afecten nuestra media"
   ]
  },
  {
   "cell_type": "code",
   "execution_count": 23,
   "metadata": {},
   "outputs": [
    {
     "data": {
      "text/plain": [
       "2.0    37685\n",
       "3.0    29768\n",
       "1.0    17117\n",
       "4.0    12210\n",
       "5.0     3464\n",
       "6.0      978\n",
       "Name: rooms, dtype: int64"
      ]
     },
     "execution_count": 23,
     "metadata": {},
     "output_type": "execute_result"
    }
   ],
   "source": [
    "idx = df.index[mask_GE_7].to_list()\n",
    "df.drop(idx, inplace=True)\n",
    "df.rooms.value_counts()"
   ]
  },
  {
   "cell_type": "code",
   "execution_count": 24,
   "metadata": {},
   "outputs": [
    {
     "name": "stdout",
     "output_type": "stream",
     "text": [
      "Se eliminaron 752 outliers.\n",
      "Son 0.0062 % de las observaciones\n"
     ]
    },
    {
     "data": {
      "text/plain": [
       "<AxesSubplot:ylabel='Frequency'>"
      ]
     },
     "execution_count": 24,
     "metadata": {},
     "output_type": "execute_result"
    },
    {
     "data": {
      "image/png": "[encoded data removed]",
      "text/plain": [
       "<Figure size 432x288 with 1 Axes>"
      ]
     },
     "metadata": {
      "needs_background": "light"
     },
     "output_type": "display_data"
    }
   ],
   "source": [
    "values_after_drop = df.shape[0]\n",
    "values_diff = values_before_drop - values_after_drop\n",
    "print(f\"Se eliminaron {values_diff} outliers.\")\n",
    "print(f\"Son {values_diff/values_before_drop:.4f} % de las observaciones\")\n",
    "df[\"rooms\"].plot(kind=\"hist\", bins=20)"
   ]
  }
 ],
 "metadata": {
  "interpreter": {
   "hash": "4372b1848ab4d20666fdd5ebf000d0b9b72f9d72c88eb9025a2c14caf722bc62"
  },
  "kernelspec": {
   "display_name": "Python 3.8.13 ('dhdsblend2021')",
   "language": "python",
   "name": "python3"
  },
  "language_info": {
   "codemirror_mode": {
    "name": "ipython",
    "version": 3
   },
   "file_extension": ".py",
   "mimetype": "text/x-python",
   "name": "python",
   "nbconvert_exporter": "python",
   "pygments_lexer": "ipython3",
   "version": "3.8.13"
  },
  "orig_nbformat": 4
 },
 "nbformat": 4,
 "nbformat_minor": 2
}
